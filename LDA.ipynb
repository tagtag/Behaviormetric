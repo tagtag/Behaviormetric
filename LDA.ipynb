{
  "nbformat": 4,
  "nbformat_minor": 0,
  "metadata": {
    "colab": {
      "name": "Untitled5.ipynb",
      "provenance": []
    },
    "kernelspec": {
      "name": "python3",
      "display_name": "Python 3"
    },
    "language_info": {
      "name": "python"
    }
  },
  "cells": [
    {
      "cell_type": "code",
      "metadata": {
        "id": "M5rW6_1W5ROK"
      },
      "source": [
        "import numpy as np\n",
        "import pandas as pd\n",
        "import matplotlib.pyplot as plt\n",
        "import seaborn as sns\n",
        "%matplotlib inline\n",
        "sns.set_style('darkgrid')\n",
        "\n",
        "from sklearn.datasets import load_wine\n",
        "\n",
        "from sklearn.discriminant_analysis import LinearDiscriminantAnalysis\n",
        "from sklearn import datasets\n",
        "import pandas as pd\n",
        "\n",
        "wine = datasets.load_wine()\n",
        "\n",
        "# 特徴量 データ\n",
        "df = pd.DataFrame(wine.data, columns=wine.feature_names)\n",
        "# label データ\n",
        "y = wine.target\n",
        "df.head()\n",
        "\n",
        "# LDA : label データが必要\n",
        "lda = LinearDiscriminantAnalysis(n_components=2)\n",
        "X_lda_reduced = lda.fit(df.values, y).transform(df.values)\n",
        "plt.figure(figsize=(13, 4))\n",
        "plt.subplot(121)\n",
        "plt.scatter(X_lda_reduced[:, 0], X_lda_reduced[:, 1],\n",
        "            c=y, cmap='viridis', edgecolor='blacK')\n",
        "plt.title('LDA', fontsize=20)"
      ],
      "execution_count": null,
      "outputs": []
    }
  ]
}